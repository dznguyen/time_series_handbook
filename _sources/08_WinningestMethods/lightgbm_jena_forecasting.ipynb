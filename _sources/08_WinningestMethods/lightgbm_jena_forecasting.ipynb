{
 "cells": [
  {
   "cell_type": "markdown",
   "metadata": {
    "id": "FJogEfYBOfUm"
   },
   "source": [
    "# Temperature Forecasting (Supplementary Notebook)\n",
    "\n",
    "Similar to what was done in previous sections, this notebook applies the methodology used in the M5 Forecasting notebook to the Jena Climate dataset. Specifically, we will be forecasting the temperature variable."
   ]
  },
  {
   "cell_type": "markdown",
   "metadata": {
    "id": "olkHffRbOfUr"
   },
   "source": [
    "## 1. Jena Climate Dataset\n",
    "\n",
    "Let's load the dataset and examine it."
   ]
  },
  {
   "cell_type": "code",
   "execution_count": 1,
   "metadata": {
    "id": "floWkFlxOfUs"
   },
   "outputs": [
    {
     "data": {
      "text/plain": [
       "(420551, 15)"
      ]
     },
     "execution_count": 1,
     "metadata": {},
     "output_type": "execute_result"
    }
   ],
   "source": [
    "import numpy as np\n",
    "import pandas as pd\n",
    "import matplotlib.pyplot as plt\n",
    "\n",
    "### CREATE X,Y ####\n",
    "def create_xy(series, window_size, prediction_horizon, shuffle = False):\n",
    "    x = []\n",
    "    y = []\n",
    "    for i in range(0, len(series)):\n",
    "        if len(series[(i + window_size):(i + window_size + prediction_horizon)]) < prediction_horizon:\n",
    "            break\n",
    "        x.append(series[i:(i + window_size)])\n",
    "        y.append(series[(i + window_size):(i + window_size + prediction_horizon)])\n",
    "    x = np.array(x)\n",
    "    y = np.array(y)\n",
    "    return x,y\n",
    "\n",
    "plt.rcParams['figure.figsize'] = [15, 5]\n",
    "\n",
    "np.set_printoptions(precision = 6, suppress = True)\n",
    "\n",
    "df = pd.read_csv('../data/jena_climate_2009_2016.csv')\n",
    "df.shape"
   ]
  },
  {
   "cell_type": "code",
   "execution_count": 2,
   "metadata": {
    "colab": {
     "base_uri": "https://localhost:8080/",
     "height": 456
    },
    "id": "mjsCtvwkOfUt",
    "outputId": "506c2c09-de24-4f59-956c-55fe6242e08f"
   },
   "outputs": [
    {
     "data": {
      "text/html": [
       "<div>\n",
       "<style scoped>\n",
       "    .dataframe tbody tr th:only-of-type {\n",
       "        vertical-align: middle;\n",
       "    }\n",
       "\n",
       "    .dataframe tbody tr th {\n",
       "        vertical-align: top;\n",
       "    }\n",
       "\n",
       "    .dataframe thead th {\n",
       "        text-align: right;\n",
       "    }\n",
       "</style>\n",
       "<table border=\"1\" class=\"dataframe\">\n",
       "  <thead>\n",
       "    <tr style=\"text-align: right;\">\n",
       "      <th></th>\n",
       "      <th>Date Time</th>\n",
       "      <th>p (mbar)</th>\n",
       "      <th>T (degC)</th>\n",
       "      <th>Tpot (K)</th>\n",
       "      <th>Tdew (degC)</th>\n",
       "      <th>rh (%)</th>\n",
       "      <th>VPmax (mbar)</th>\n",
       "      <th>VPact (mbar)</th>\n",
       "      <th>VPdef (mbar)</th>\n",
       "      <th>sh (g/kg)</th>\n",
       "      <th>H2OC (mmol/mol)</th>\n",
       "      <th>rho (g/m**3)</th>\n",
       "      <th>wv (m/s)</th>\n",
       "      <th>max. wv (m/s)</th>\n",
       "      <th>wd (deg)</th>\n",
       "    </tr>\n",
       "  </thead>\n",
       "  <tbody>\n",
       "    <tr>\n",
       "      <th>0</th>\n",
       "      <td>01.01.2009 00:10:00</td>\n",
       "      <td>996.52</td>\n",
       "      <td>-8.02</td>\n",
       "      <td>265.40</td>\n",
       "      <td>-8.90</td>\n",
       "      <td>93.3</td>\n",
       "      <td>3.33</td>\n",
       "      <td>3.11</td>\n",
       "      <td>0.22</td>\n",
       "      <td>1.94</td>\n",
       "      <td>3.12</td>\n",
       "      <td>1307.75</td>\n",
       "      <td>1.03</td>\n",
       "      <td>1.75</td>\n",
       "      <td>152.3</td>\n",
       "    </tr>\n",
       "    <tr>\n",
       "      <th>1</th>\n",
       "      <td>01.01.2009 00:20:00</td>\n",
       "      <td>996.57</td>\n",
       "      <td>-8.41</td>\n",
       "      <td>265.01</td>\n",
       "      <td>-9.28</td>\n",
       "      <td>93.4</td>\n",
       "      <td>3.23</td>\n",
       "      <td>3.02</td>\n",
       "      <td>0.21</td>\n",
       "      <td>1.89</td>\n",
       "      <td>3.03</td>\n",
       "      <td>1309.80</td>\n",
       "      <td>0.72</td>\n",
       "      <td>1.50</td>\n",
       "      <td>136.1</td>\n",
       "    </tr>\n",
       "    <tr>\n",
       "      <th>2</th>\n",
       "      <td>01.01.2009 00:30:00</td>\n",
       "      <td>996.53</td>\n",
       "      <td>-8.51</td>\n",
       "      <td>264.91</td>\n",
       "      <td>-9.31</td>\n",
       "      <td>93.9</td>\n",
       "      <td>3.21</td>\n",
       "      <td>3.01</td>\n",
       "      <td>0.20</td>\n",
       "      <td>1.88</td>\n",
       "      <td>3.02</td>\n",
       "      <td>1310.24</td>\n",
       "      <td>0.19</td>\n",
       "      <td>0.63</td>\n",
       "      <td>171.6</td>\n",
       "    </tr>\n",
       "    <tr>\n",
       "      <th>3</th>\n",
       "      <td>01.01.2009 00:40:00</td>\n",
       "      <td>996.51</td>\n",
       "      <td>-8.31</td>\n",
       "      <td>265.12</td>\n",
       "      <td>-9.07</td>\n",
       "      <td>94.2</td>\n",
       "      <td>3.26</td>\n",
       "      <td>3.07</td>\n",
       "      <td>0.19</td>\n",
       "      <td>1.92</td>\n",
       "      <td>3.08</td>\n",
       "      <td>1309.19</td>\n",
       "      <td>0.34</td>\n",
       "      <td>0.50</td>\n",
       "      <td>198.0</td>\n",
       "    </tr>\n",
       "    <tr>\n",
       "      <th>4</th>\n",
       "      <td>01.01.2009 00:50:00</td>\n",
       "      <td>996.51</td>\n",
       "      <td>-8.27</td>\n",
       "      <td>265.15</td>\n",
       "      <td>-9.04</td>\n",
       "      <td>94.1</td>\n",
       "      <td>3.27</td>\n",
       "      <td>3.08</td>\n",
       "      <td>0.19</td>\n",
       "      <td>1.92</td>\n",
       "      <td>3.09</td>\n",
       "      <td>1309.00</td>\n",
       "      <td>0.32</td>\n",
       "      <td>0.63</td>\n",
       "      <td>214.3</td>\n",
       "    </tr>\n",
       "    <tr>\n",
       "      <th>5</th>\n",
       "      <td>01.01.2009 01:00:00</td>\n",
       "      <td>996.50</td>\n",
       "      <td>-8.05</td>\n",
       "      <td>265.38</td>\n",
       "      <td>-8.78</td>\n",
       "      <td>94.4</td>\n",
       "      <td>3.33</td>\n",
       "      <td>3.14</td>\n",
       "      <td>0.19</td>\n",
       "      <td>1.96</td>\n",
       "      <td>3.15</td>\n",
       "      <td>1307.86</td>\n",
       "      <td>0.21</td>\n",
       "      <td>0.63</td>\n",
       "      <td>192.7</td>\n",
       "    </tr>\n",
       "    <tr>\n",
       "      <th>6</th>\n",
       "      <td>01.01.2009 01:10:00</td>\n",
       "      <td>996.50</td>\n",
       "      <td>-7.62</td>\n",
       "      <td>265.81</td>\n",
       "      <td>-8.30</td>\n",
       "      <td>94.8</td>\n",
       "      <td>3.44</td>\n",
       "      <td>3.26</td>\n",
       "      <td>0.18</td>\n",
       "      <td>2.04</td>\n",
       "      <td>3.27</td>\n",
       "      <td>1305.68</td>\n",
       "      <td>0.18</td>\n",
       "      <td>0.63</td>\n",
       "      <td>166.5</td>\n",
       "    </tr>\n",
       "    <tr>\n",
       "      <th>7</th>\n",
       "      <td>01.01.2009 01:20:00</td>\n",
       "      <td>996.50</td>\n",
       "      <td>-7.62</td>\n",
       "      <td>265.81</td>\n",
       "      <td>-8.36</td>\n",
       "      <td>94.4</td>\n",
       "      <td>3.44</td>\n",
       "      <td>3.25</td>\n",
       "      <td>0.19</td>\n",
       "      <td>2.03</td>\n",
       "      <td>3.26</td>\n",
       "      <td>1305.69</td>\n",
       "      <td>0.19</td>\n",
       "      <td>0.50</td>\n",
       "      <td>118.6</td>\n",
       "    </tr>\n",
       "    <tr>\n",
       "      <th>8</th>\n",
       "      <td>01.01.2009 01:30:00</td>\n",
       "      <td>996.50</td>\n",
       "      <td>-7.91</td>\n",
       "      <td>265.52</td>\n",
       "      <td>-8.73</td>\n",
       "      <td>93.8</td>\n",
       "      <td>3.36</td>\n",
       "      <td>3.15</td>\n",
       "      <td>0.21</td>\n",
       "      <td>1.97</td>\n",
       "      <td>3.16</td>\n",
       "      <td>1307.17</td>\n",
       "      <td>0.28</td>\n",
       "      <td>0.75</td>\n",
       "      <td>188.5</td>\n",
       "    </tr>\n",
       "    <tr>\n",
       "      <th>9</th>\n",
       "      <td>01.01.2009 01:40:00</td>\n",
       "      <td>996.53</td>\n",
       "      <td>-8.43</td>\n",
       "      <td>264.99</td>\n",
       "      <td>-9.34</td>\n",
       "      <td>93.1</td>\n",
       "      <td>3.23</td>\n",
       "      <td>3.00</td>\n",
       "      <td>0.22</td>\n",
       "      <td>1.88</td>\n",
       "      <td>3.02</td>\n",
       "      <td>1309.85</td>\n",
       "      <td>0.59</td>\n",
       "      <td>0.88</td>\n",
       "      <td>185.0</td>\n",
       "    </tr>\n",
       "  </tbody>\n",
       "</table>\n",
       "</div>"
      ],
      "text/plain": [
       "             Date Time  p (mbar)  T (degC)  Tpot (K)  Tdew (degC)  rh (%)  \\\n",
       "0  01.01.2009 00:10:00    996.52     -8.02    265.40        -8.90    93.3   \n",
       "1  01.01.2009 00:20:00    996.57     -8.41    265.01        -9.28    93.4   \n",
       "2  01.01.2009 00:30:00    996.53     -8.51    264.91        -9.31    93.9   \n",
       "3  01.01.2009 00:40:00    996.51     -8.31    265.12        -9.07    94.2   \n",
       "4  01.01.2009 00:50:00    996.51     -8.27    265.15        -9.04    94.1   \n",
       "5  01.01.2009 01:00:00    996.50     -8.05    265.38        -8.78    94.4   \n",
       "6  01.01.2009 01:10:00    996.50     -7.62    265.81        -8.30    94.8   \n",
       "7  01.01.2009 01:20:00    996.50     -7.62    265.81        -8.36    94.4   \n",
       "8  01.01.2009 01:30:00    996.50     -7.91    265.52        -8.73    93.8   \n",
       "9  01.01.2009 01:40:00    996.53     -8.43    264.99        -9.34    93.1   \n",
       "\n",
       "   VPmax (mbar)  VPact (mbar)  VPdef (mbar)  sh (g/kg)  H2OC (mmol/mol)  \\\n",
       "0          3.33          3.11          0.22       1.94             3.12   \n",
       "1          3.23          3.02          0.21       1.89             3.03   \n",
       "2          3.21          3.01          0.20       1.88             3.02   \n",
       "3          3.26          3.07          0.19       1.92             3.08   \n",
       "4          3.27          3.08          0.19       1.92             3.09   \n",
       "5          3.33          3.14          0.19       1.96             3.15   \n",
       "6          3.44          3.26          0.18       2.04             3.27   \n",
       "7          3.44          3.25          0.19       2.03             3.26   \n",
       "8          3.36          3.15          0.21       1.97             3.16   \n",
       "9          3.23          3.00          0.22       1.88             3.02   \n",
       "\n",
       "   rho (g/m**3)  wv (m/s)  max. wv (m/s)  wd (deg)  \n",
       "0       1307.75      1.03           1.75     152.3  \n",
       "1       1309.80      0.72           1.50     136.1  \n",
       "2       1310.24      0.19           0.63     171.6  \n",
       "3       1309.19      0.34           0.50     198.0  \n",
       "4       1309.00      0.32           0.63     214.3  \n",
       "5       1307.86      0.21           0.63     192.7  \n",
       "6       1305.68      0.18           0.63     166.5  \n",
       "7       1305.69      0.19           0.50     118.6  \n",
       "8       1307.17      0.28           0.75     188.5  \n",
       "9       1309.85      0.59           0.88     185.0  "
      ]
     },
     "execution_count": 2,
     "metadata": {},
     "output_type": "execute_result"
    }
   ],
   "source": [
    "df.head(10)"
   ]
  },
  {
   "cell_type": "code",
   "execution_count": 3,
   "metadata": {},
   "outputs": [
    {
     "data": {
      "image/png": "[encoded data removed]",
      "text/plain": [
       "<Figure size 1080x360 with 1 Axes>"
      ]
     },
     "metadata": {
      "needs_background": "light"
     },
     "output_type": "display_data"
    },
    {
     "name": "stdout",
     "output_type": "stream",
     "text": [
      "(420546,)\n"
     ]
    }
   ],
   "source": [
    "series = df['T (degC)'].iloc[5:]\n",
    "\n",
    "series.plot()\n",
    "plt.show()\n",
    "print(series.shape)"
   ]
  },
  {
   "cell_type": "code",
   "execution_count": 4,
   "metadata": {},
   "outputs": [
    {
     "data": {
      "image/png": "[encoded data removed]",
      "text/plain": [
       "<Figure size 1080x360 with 1 Axes>"
      ]
     },
     "metadata": {
      "needs_background": "light"
     },
     "output_type": "display_data"
    },
    {
     "name": "stdout",
     "output_type": "stream",
     "text": [
      "(70091,)\n"
     ]
    }
   ],
   "source": [
    "series = series.iloc[::6]\n",
    "\n",
    "series.plot()\n",
    "plt.show()\n",
    "print(series.shape)"
   ]
  },
  {
   "cell_type": "code",
   "execution_count": 5,
   "metadata": {},
   "outputs": [
    {
     "data": {
      "text/html": [
       "<div>\n",
       "<style scoped>\n",
       "    .dataframe tbody tr th:only-of-type {\n",
       "        vertical-align: middle;\n",
       "    }\n",
       "\n",
       "    .dataframe tbody tr th {\n",
       "        vertical-align: top;\n",
       "    }\n",
       "\n",
       "    .dataframe thead th {\n",
       "        text-align: right;\n",
       "    }\n",
       "</style>\n",
       "<table border=\"1\" class=\"dataframe\">\n",
       "  <thead>\n",
       "    <tr style=\"text-align: right;\">\n",
       "      <th></th>\n",
       "      <th>p (mbar)</th>\n",
       "      <th>T (degC)</th>\n",
       "      <th>Tpot (K)</th>\n",
       "      <th>Tdew (degC)</th>\n",
       "      <th>rh (%)</th>\n",
       "      <th>VPmax (mbar)</th>\n",
       "      <th>VPact (mbar)</th>\n",
       "      <th>VPdef (mbar)</th>\n",
       "      <th>sh (g/kg)</th>\n",
       "      <th>H2OC (mmol/mol)</th>\n",
       "      <th>rho (g/m**3)</th>\n",
       "      <th>wv (m/s)</th>\n",
       "      <th>max. wv (m/s)</th>\n",
       "      <th>wd (deg)</th>\n",
       "    </tr>\n",
       "  </thead>\n",
       "  <tbody>\n",
       "    <tr>\n",
       "      <th>0</th>\n",
       "      <td>996.52</td>\n",
       "      <td>-8.02</td>\n",
       "      <td>265.40</td>\n",
       "      <td>-8.90</td>\n",
       "      <td>93.30</td>\n",
       "      <td>3.33</td>\n",
       "      <td>3.11</td>\n",
       "      <td>0.22</td>\n",
       "      <td>1.94</td>\n",
       "      <td>3.12</td>\n",
       "      <td>1307.75</td>\n",
       "      <td>1.03</td>\n",
       "      <td>1.75</td>\n",
       "      <td>152.3</td>\n",
       "    </tr>\n",
       "    <tr>\n",
       "      <th>6</th>\n",
       "      <td>996.50</td>\n",
       "      <td>-7.62</td>\n",
       "      <td>265.81</td>\n",
       "      <td>-8.30</td>\n",
       "      <td>94.80</td>\n",
       "      <td>3.44</td>\n",
       "      <td>3.26</td>\n",
       "      <td>0.18</td>\n",
       "      <td>2.04</td>\n",
       "      <td>3.27</td>\n",
       "      <td>1305.68</td>\n",
       "      <td>0.18</td>\n",
       "      <td>0.63</td>\n",
       "      <td>166.5</td>\n",
       "    </tr>\n",
       "    <tr>\n",
       "      <th>12</th>\n",
       "      <td>996.63</td>\n",
       "      <td>-8.85</td>\n",
       "      <td>264.57</td>\n",
       "      <td>-9.70</td>\n",
       "      <td>93.50</td>\n",
       "      <td>3.12</td>\n",
       "      <td>2.92</td>\n",
       "      <td>0.20</td>\n",
       "      <td>1.82</td>\n",
       "      <td>2.93</td>\n",
       "      <td>1312.11</td>\n",
       "      <td>0.16</td>\n",
       "      <td>0.50</td>\n",
       "      <td>158.3</td>\n",
       "    </tr>\n",
       "    <tr>\n",
       "      <th>18</th>\n",
       "      <td>996.87</td>\n",
       "      <td>-8.84</td>\n",
       "      <td>264.56</td>\n",
       "      <td>-9.69</td>\n",
       "      <td>93.50</td>\n",
       "      <td>3.13</td>\n",
       "      <td>2.92</td>\n",
       "      <td>0.20</td>\n",
       "      <td>1.83</td>\n",
       "      <td>2.93</td>\n",
       "      <td>1312.37</td>\n",
       "      <td>0.07</td>\n",
       "      <td>0.25</td>\n",
       "      <td>129.3</td>\n",
       "    </tr>\n",
       "    <tr>\n",
       "      <th>24</th>\n",
       "      <td>997.05</td>\n",
       "      <td>-9.23</td>\n",
       "      <td>264.15</td>\n",
       "      <td>-10.25</td>\n",
       "      <td>92.20</td>\n",
       "      <td>3.03</td>\n",
       "      <td>2.79</td>\n",
       "      <td>0.24</td>\n",
       "      <td>1.74</td>\n",
       "      <td>2.80</td>\n",
       "      <td>1314.62</td>\n",
       "      <td>0.10</td>\n",
       "      <td>0.38</td>\n",
       "      <td>203.9</td>\n",
       "    </tr>\n",
       "    <tr>\n",
       "      <th>...</th>\n",
       "      <td>...</td>\n",
       "      <td>...</td>\n",
       "      <td>...</td>\n",
       "      <td>...</td>\n",
       "      <td>...</td>\n",
       "      <td>...</td>\n",
       "      <td>...</td>\n",
       "      <td>...</td>\n",
       "      <td>...</td>\n",
       "      <td>...</td>\n",
       "      <td>...</td>\n",
       "      <td>...</td>\n",
       "      <td>...</td>\n",
       "      <td>...</td>\n",
       "    </tr>\n",
       "    <tr>\n",
       "      <th>420522</th>\n",
       "      <td>1002.08</td>\n",
       "      <td>-1.40</td>\n",
       "      <td>271.59</td>\n",
       "      <td>-6.10</td>\n",
       "      <td>70.20</td>\n",
       "      <td>5.51</td>\n",
       "      <td>3.87</td>\n",
       "      <td>1.64</td>\n",
       "      <td>2.40</td>\n",
       "      <td>3.86</td>\n",
       "      <td>1282.68</td>\n",
       "      <td>1.08</td>\n",
       "      <td>1.68</td>\n",
       "      <td>207.5</td>\n",
       "    </tr>\n",
       "    <tr>\n",
       "      <th>420528</th>\n",
       "      <td>1001.42</td>\n",
       "      <td>-2.15</td>\n",
       "      <td>270.90</td>\n",
       "      <td>-7.08</td>\n",
       "      <td>68.77</td>\n",
       "      <td>5.21</td>\n",
       "      <td>3.59</td>\n",
       "      <td>1.63</td>\n",
       "      <td>2.23</td>\n",
       "      <td>3.58</td>\n",
       "      <td>1285.50</td>\n",
       "      <td>0.79</td>\n",
       "      <td>1.24</td>\n",
       "      <td>184.3</td>\n",
       "    </tr>\n",
       "    <tr>\n",
       "      <th>420534</th>\n",
       "      <td>1001.05</td>\n",
       "      <td>-2.61</td>\n",
       "      <td>270.47</td>\n",
       "      <td>-6.97</td>\n",
       "      <td>71.80</td>\n",
       "      <td>5.04</td>\n",
       "      <td>3.62</td>\n",
       "      <td>1.42</td>\n",
       "      <td>2.25</td>\n",
       "      <td>3.61</td>\n",
       "      <td>1287.20</td>\n",
       "      <td>0.77</td>\n",
       "      <td>1.64</td>\n",
       "      <td>129.1</td>\n",
       "    </tr>\n",
       "    <tr>\n",
       "      <th>420540</th>\n",
       "      <td>1000.51</td>\n",
       "      <td>-3.22</td>\n",
       "      <td>269.90</td>\n",
       "      <td>-7.63</td>\n",
       "      <td>71.40</td>\n",
       "      <td>4.81</td>\n",
       "      <td>3.44</td>\n",
       "      <td>1.38</td>\n",
       "      <td>2.14</td>\n",
       "      <td>3.44</td>\n",
       "      <td>1289.50</td>\n",
       "      <td>0.85</td>\n",
       "      <td>1.54</td>\n",
       "      <td>207.8</td>\n",
       "    </tr>\n",
       "    <tr>\n",
       "      <th>420546</th>\n",
       "      <td>1000.07</td>\n",
       "      <td>-4.05</td>\n",
       "      <td>269.10</td>\n",
       "      <td>-8.13</td>\n",
       "      <td>73.10</td>\n",
       "      <td>4.52</td>\n",
       "      <td>3.30</td>\n",
       "      <td>1.22</td>\n",
       "      <td>2.06</td>\n",
       "      <td>3.30</td>\n",
       "      <td>1292.98</td>\n",
       "      <td>0.67</td>\n",
       "      <td>1.52</td>\n",
       "      <td>240.0</td>\n",
       "    </tr>\n",
       "  </tbody>\n",
       "</table>\n",
       "<p>70092 rows × 14 columns</p>\n",
       "</div>"
      ],
      "text/plain": [
       "        p (mbar)  T (degC)  Tpot (K)  Tdew (degC)  rh (%)  VPmax (mbar)  \\\n",
       "0         996.52     -8.02    265.40        -8.90   93.30          3.33   \n",
       "6         996.50     -7.62    265.81        -8.30   94.80          3.44   \n",
       "12        996.63     -8.85    264.57        -9.70   93.50          3.12   \n",
       "18        996.87     -8.84    264.56        -9.69   93.50          3.13   \n",
       "24        997.05     -9.23    264.15       -10.25   92.20          3.03   \n",
       "...          ...       ...       ...          ...     ...           ...   \n",
       "420522   1002.08     -1.40    271.59        -6.10   70.20          5.51   \n",
       "420528   1001.42     -2.15    270.90        -7.08   68.77          5.21   \n",
       "420534   1001.05     -2.61    270.47        -6.97   71.80          5.04   \n",
       "420540   1000.51     -3.22    269.90        -7.63   71.40          4.81   \n",
       "420546   1000.07     -4.05    269.10        -8.13   73.10          4.52   \n",
       "\n",
       "        VPact (mbar)  VPdef (mbar)  sh (g/kg)  H2OC (mmol/mol)  rho (g/m**3)  \\\n",
       "0               3.11          0.22       1.94             3.12       1307.75   \n",
       "6               3.26          0.18       2.04             3.27       1305.68   \n",
       "12              2.92          0.20       1.82             2.93       1312.11   \n",
       "18              2.92          0.20       1.83             2.93       1312.37   \n",
       "24              2.79          0.24       1.74             2.80       1314.62   \n",
       "...              ...           ...        ...              ...           ...   \n",
       "420522          3.87          1.64       2.40             3.86       1282.68   \n",
       "420528          3.59          1.63       2.23             3.58       1285.50   \n",
       "420534          3.62          1.42       2.25             3.61       1287.20   \n",
       "420540          3.44          1.38       2.14             3.44       1289.50   \n",
       "420546          3.30          1.22       2.06             3.30       1292.98   \n",
       "\n",
       "        wv (m/s)  max. wv (m/s)  wd (deg)  \n",
       "0           1.03           1.75     152.3  \n",
       "6           0.18           0.63     166.5  \n",
       "12          0.16           0.50     158.3  \n",
       "18          0.07           0.25     129.3  \n",
       "24          0.10           0.38     203.9  \n",
       "...          ...            ...       ...  \n",
       "420522      1.08           1.68     207.5  \n",
       "420528      0.79           1.24     184.3  \n",
       "420534      0.77           1.64     129.1  \n",
       "420540      0.85           1.54     207.8  \n",
       "420546      0.67           1.52     240.0  \n",
       "\n",
       "[70092 rows x 14 columns]"
      ]
     },
     "execution_count": 5,
     "metadata": {},
     "output_type": "execute_result"
    }
   ],
   "source": [
    "series = df.iloc[::6, 1:]\n",
    "series"
   ]
  },
  {
   "cell_type": "code",
   "execution_count": 6,
   "metadata": {},
   "outputs": [
    {
     "name": "stdout",
     "output_type": "stream",
     "text": [
      "(34805, 240)\n",
      "(34805,)\n",
      "(17284, 240)\n",
      "(17284,)\n",
      "(17283, 240)\n",
      "(17283,)\n"
     ]
    }
   ],
   "source": [
    "### HYPERPARAMETERS ###\n",
    "window_size = 240\n",
    "prediction_horizon = 1\n",
    "\n",
    "### TRAIN TEST VAL SPLIT ###\n",
    "train_series = series.iloc[:35045, 1]\n",
    "val_series = series.iloc[35045:52569, 1]\n",
    "test_series = series.iloc[52569:, 1]\n",
    "\n",
    "train_x, train_y = create_xy(train_series.to_numpy(), window_size, prediction_horizon)\n",
    "val_x, val_y = create_xy(val_series.to_numpy(), window_size, prediction_horizon)\n",
    "test_x, test_y = create_xy(test_series.to_numpy(), window_size, prediction_horizon)\n",
    "\n",
    "train_y = train_y.flatten()\n",
    "val_y = val_y.flatten()\n",
    "test_y = test_y.flatten()\n",
    "\n",
    "print(train_x.shape)\n",
    "print(train_y.shape)\n",
    "print(val_x.shape)\n",
    "print(val_y.shape)\n",
    "print(test_x.shape)\n",
    "print(test_y.shape)"
   ]
  },
  {
   "cell_type": "code",
   "execution_count": 7,
   "metadata": {
    "colab": {
     "base_uri": "https://localhost:8080/",
     "height": 320
    },
    "id": "gHANelCHOfU1",
    "outputId": "78ca90b6-3427-4b2e-8b35-da0a942c9145"
   },
   "outputs": [
    {
     "data": {
      "image/png": "[encoded data removed]",
      "text/plain": [
       "<Figure size 1080x360 with 1 Axes>"
      ]
     },
     "metadata": {
      "needs_background": "light"
     },
     "output_type": "display_data"
    }
   ],
   "source": [
    "test_series.plot()\n",
    "plt.show()"
   ]
  },
  {
   "cell_type": "markdown",
   "metadata": {
    "id": "4iHnJwMcOfU1"
   },
   "source": [
    "###  LightGBM"
   ]
  },
  {
   "cell_type": "code",
   "execution_count": 8,
   "metadata": {
    "colab": {
     "base_uri": "https://localhost:8080/"
    },
    "id": "9pNItUGaOfU2",
    "outputId": "a48a88e4-41e0-4b2f-deb4-fc431a3f96b6"
   },
   "outputs": [
    {
     "data": {
      "text/plain": [
       "LGBMRegressor()"
      ]
     },
     "execution_count": 8,
     "metadata": {},
     "output_type": "execute_result"
    }
   ],
   "source": [
    "import lightgbm as lgb\n",
    "\n",
    "model = lgb.LGBMRegressor()\n",
    "\n",
    "model.fit(train_x, train_y,\n",
    "          eval_metric = 'l1', \n",
    "          eval_set = [(val_x, val_y)],\n",
    "          early_stopping_rounds = 100,\n",
    "          verbose = 0)"
   ]
  },
  {
   "cell_type": "code",
   "execution_count": 9,
   "metadata": {
    "colab": {
     "base_uri": "https://localhost:8080/",
     "height": 405
    },
    "id": "nck0f2RyOfU5",
    "outputId": "e8f8e75d-6e4f-4481-f059-f40c67695315"
   },
   "outputs": [
    {
     "name": "stdout",
     "output_type": "stream",
     "text": [
      "  LightGBM MAE: 0.5319\n"
     ]
    }
   ],
   "source": [
    "forecast = model.predict(test_x)\n",
    "print('  LightGBM MAE: %.4f' % (np.mean(np.abs(forecast - test_y))))\n",
    "\n",
    "#series[-test_size:].plot(marker = 'o', linestyle = '--')\n",
    "#plt.plot(forecast, marker = 'o', linestyle = '--')\n",
    "#plt.show()"
   ]
  },
  {
   "cell_type": "code",
   "execution_count": 10,
   "metadata": {},
   "outputs": [
    {
     "name": "stdout",
     "output_type": "stream",
     "text": [
      "(34782, 240)\n",
      "(34782, 24)\n",
      "(17261, 240)\n",
      "(17261, 24)\n",
      "(17260, 240)\n",
      "(17260, 24)\n"
     ]
    }
   ],
   "source": [
    "### HYPERPARAMETERS ###\n",
    "window_size = 240\n",
    "prediction_horizon = 24\n",
    "\n",
    "### TRAIN TEST VAL SPLIT ###\n",
    "train_series = series.iloc[:35045, 1]\n",
    "val_series = series.iloc[35045:52569, 1]\n",
    "test_series = series.iloc[52569:, 1]\n",
    "\n",
    "train_x, train_y = create_xy(train_series.to_numpy(), window_size, prediction_horizon)\n",
    "val_x, val_y = create_xy(val_series.to_numpy(), window_size, prediction_horizon)\n",
    "test_x, test_y = create_xy(test_series.to_numpy(), window_size, prediction_horizon)\n",
    "\n",
    "print(train_x.shape)\n",
    "print(train_y.shape)\n",
    "print(val_x.shape)\n",
    "print(val_y.shape)\n",
    "print(test_x.shape)\n",
    "print(test_y.shape)"
   ]
  },
  {
   "cell_type": "code",
   "execution_count": 16,
   "metadata": {
    "scrolled": true
   },
   "outputs": [
    {
     "name": "stdout",
     "output_type": "stream",
     "text": [
      "LightGBM\n",
      "MAE: 2.083323119819872\n",
      "RMSE: 2.7826767013777443\n",
      "\n",
      "Naive\n",
      "MAE: 3.184767754022055\n",
      "RMSE: 4.457663461439199\n",
      "\n",
      "Seasonal Naive\n",
      "MAE: 2.613232738911751\n",
      "RMSE: 3.4171095400347133\n"
     ]
    }
   ],
   "source": [
    "### LightGBM\n",
    "\n",
    "recursive_x = test_x\n",
    "forecast_ms = []\n",
    "for j in range(prediction_horizon):\n",
    "    pred = model.predict(recursive_x)\n",
    "    recursive_x = np.hstack((recursive_x[:, 1:], pred[:, np.newaxis]))\n",
    "    forecast_ms.append(pred)\n",
    "forecast_ms = np.asarray(forecast_ms).T\n",
    "print('LightGBM')\n",
    "print('MAE:', np.mean(np.abs(test_y - forecast_ms)))\n",
    "print('RMSE:', np.sqrt(np.mean((test_y - forecast_ms)**2)))\n",
    "print('')\n",
    "\n",
    "### Naive\n",
    "\n",
    "tmp = test_y[:-1, -1]\n",
    "n_forecast = []\n",
    "\n",
    "for val in tmp:\n",
    "    n_forecast.append(np.repeat(val, 24))\n",
    "n_forecast = np.asarray(n_forecast)\n",
    "\n",
    "print('Naive')\n",
    "print('MAE:', np.mean(np.abs(test_y[1:, :] - n_forecast)))\n",
    "print('RMSE:', np.sqrt(np.mean((test_y[1:, :] - n_forecast)**2)))\n",
    "print('')\n",
    "\n",
    "\n",
    "### S.Naive\n",
    "\n",
    "new_test = np.vstack(np.array_split(test_series.to_numpy()[3:], 730))\n",
    "\n",
    "print('Seasonal Naive')\n",
    "print('MAE:', np.mean(np.abs(new_test[1:, :] - new_test[:-1, :])))\n",
    "print('RMSE:', np.sqrt(np.mean((new_test[1:, :] - new_test[:-1, :])**2)))"
   ]
  },
  {
   "cell_type": "markdown",
   "metadata": {
    "id": "FJogEfYBOfUm"
   },
   "source": [
    "## Summary\n",
    "\n",
    "Using LightGBM with a recursive forecasting strategy demonstrates that we can achieve an MAE of about 2.08°C without hyperparameter tuning."
   ]
  }
 ],
 "metadata": {
  "colab": {
   "name": "m5_forecasting.ipynb",
   "provenance": [],
   "toc_visible": true
  },
  "kernelspec": {
   "display_name": "Python 3",
   "language": "python",
   "name": "python3"
  },
  "language_info": {
   "codemirror_mode": {
    "name": "ipython",
    "version": 3
   },
   "file_extension": ".py",
   "mimetype": "text/x-python",
   "name": "python",
   "nbconvert_exporter": "python",
   "pygments_lexer": "ipython3",
   "version": "3.7.4"
  },
  "latex_envs": {
   "LaTeX_envs_menu_present": true,
   "autoclose": false,
   "autocomplete": true,
   "bibliofile": "biblio.bib",
   "cite_by": "apalike",
   "current_citInitial": 1,
   "eqLabelWithNumbers": true,
   "eqNumInitial": 1,
   "hotkeys": {
    "equation": "Ctrl-E",
    "itemize": "Ctrl-I"
   },
   "labels_anchors": false,
   "latex_user_defs": false,
   "report_style_numbering": false,
   "user_envs_cfg": false
  }
 },
 "nbformat": 4,
 "nbformat_minor": 1
}
